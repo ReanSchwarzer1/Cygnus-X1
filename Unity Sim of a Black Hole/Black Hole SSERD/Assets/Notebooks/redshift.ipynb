{
 "cells": [
  {
   "cell_type": "code",
   "execution_count": null,
   "metadata": {},
   "outputs": [],
   "source": [
    "%matplotlib inline\n",
    "import matplotlib.pyplot as plt\n",
    "import numpy as np\n",
    "from scipy import integrate\n",
    "from PIL import Image"
   ]
  },
  {
   "cell_type": "code",
   "execution_count": null,
   "metadata": {},
   "outputs": [],
   "source": [
    "size = 500\n",
    "temperature = 30000\n",
    "base_temperature = 6500"
   ]
  },
  {
   "cell_type": "code",
   "execution_count": null,
   "metadata": {},
   "outputs": [],
   "source": [
    "c = 299792458. * 10**9\n",
    "h = 6.62607004 * 10**-16\n",
    "kB = 1.38064852 * 10**-5"
   ]
  },
  {
   "cell_type": "code",
   "execution_count": null,
   "metadata": {},
   "outputs": [],
   "source": [
    "λ, x, y, z = np.loadtxt('lin2012xyz2e_fine_7sf.csv', delimiter=',').T"
   ]
  },
  {
   "cell_type": "code",
   "execution_count": null,
   "metadata": {},
   "outputs": [],
   "source": [
    "plt.plot(λ, x)\n",
    "plt.plot(λ, y)\n",
    "plt.plot(λ, z)"
   ]
  },
  {
   "cell_type": "code",
   "execution_count": null,
   "metadata": {},
   "outputs": [],
   "source": [
    "xyz2rgb = np.array([\n",
    "    [0.41847, -0.15866, -0.082835],\n",
    "    [-0.091169, 0.25243, 0.015708],\n",
    "    [0.00092090, -0.0025498, 0.17860]\n",
    "])"
   ]
  },
  {
   "cell_type": "code",
   "execution_count": null,
   "metadata": {},
   "outputs": [],
   "source": [
    "r, g, b = xyz2rgb @ np.array([x, y, z])"
   ]
  },
  {
   "cell_type": "code",
   "execution_count": null,
   "metadata": {},
   "outputs": [],
   "source": [
    "plt.plot(λ, r)\n",
    "plt.plot(λ, g)\n",
    "plt.plot(λ, b)"
   ]
  },
  {
   "cell_type": "code",
   "execution_count": null,
   "metadata": {},
   "outputs": [],
   "source": [
    "def planck(T, λ):\n",
    "    return 2.0 * h * c**2 / λ**5 / (np.exp(h * c / (λ * kB * T)) - 1.0)"
   ]
  },
  {
   "cell_type": "code",
   "execution_count": null,
   "metadata": {},
   "outputs": [],
   "source": [
    "λ_test = np.linspace(1, 2000, 100)\n",
    "p_test = planck(5000., λ_test)"
   ]
  },
  {
   "cell_type": "code",
   "execution_count": null,
   "metadata": {},
   "outputs": [],
   "source": [
    "plt.plot(λ_test, p_test)"
   ]
  },
  {
   "cell_type": "code",
   "execution_count": null,
   "metadata": {},
   "outputs": [],
   "source": [
    "T = np.linspace(1500, 10000, 300)\n",
    "I = np.array([planck(t, λ) for t in T])"
   ]
  },
  {
   "cell_type": "code",
   "execution_count": null,
   "metadata": {},
   "outputs": [],
   "source": [
    "R = integrate.simps(I * r, λ)\n",
    "G = integrate.simps(I * g, λ)\n",
    "B = integrate.simps(I * b, λ)"
   ]
  },
  {
   "cell_type": "code",
   "execution_count": null,
   "metadata": {},
   "outputs": [],
   "source": [
    "img = np.array([R, G, B]).T\n",
    "img = np.array([img / np.max(img, axis=1).reshape(-1,1) for i in range(100)])\n",
    "img[np.isnan(img)] = 0\n",
    "img[img < 0] = 0\n",
    "img[img > 1] = 1\n",
    "plt.imshow(img)"
   ]
  },
  {
   "cell_type": "code",
   "execution_count": null,
   "metadata": {},
   "outputs": [],
   "source": [
    "def rel_planck(base_T, base_λ, T, λ):\n",
    "    return (planck(T, λ) / planck(base_T, λ)) / (planck(T, base_λ) / planck(base_T, base_λ))"
   ]
  },
  {
   "cell_type": "code",
   "execution_count": null,
   "metadata": {
    "scrolled": true
   },
   "outputs": [],
   "source": [
    "plt.plot(λ, rel_planck(6500., 525., 2900., λ))"
   ]
  },
  {
   "cell_type": "code",
   "execution_count": null,
   "metadata": {},
   "outputs": [],
   "source": [
    "I = np.array([rel_planck(6500., 525., t, λ) for t in T])\n",
    "R = integrate.simps(I * r, λ)\n",
    "G = integrate.simps(I * g, λ)\n",
    "B = integrate.simps(I * b, λ)"
   ]
  },
  {
   "cell_type": "code",
   "execution_count": null,
   "metadata": {
    "scrolled": true
   },
   "outputs": [],
   "source": [
    "img = np.array([R, G, B]).T\n",
    "img = np.array([img / np.max(img, axis=1).reshape(-1,1) for i in range(100)])\n",
    "img[np.isnan(img)] = 0\n",
    "img[img < 0] = 0\n",
    "img[img > 1] = 1\n",
    "plt.imshow(img)"
   ]
  },
  {
   "cell_type": "code",
   "execution_count": null,
   "metadata": {},
   "outputs": [],
   "source": [
    "coef = h * c / kB\n",
    "\n",
    "def opt_planck(T, λ):\n",
    "    return 1.0 / λ**5 / (np.exp(coef / λ / T) - 1.0)\n",
    "\n",
    "def opt_rel_planck(base_T, base_λ, T, λ):\n",
    "    return opt_planck(T, λ) / opt_planck(base_T, λ)"
   ]
  },
  {
   "cell_type": "code",
   "execution_count": null,
   "metadata": {},
   "outputs": [],
   "source": [
    "a3_r = np.linspace(0, 1, size)\n",
    "T = temperature * a3_r**(3/4)\n",
    "\n",
    "a_R = np.linspace(0, 1, size)\n",
    "rate = np.sqrt(1.0 - a_R.reshape(-1,1)) / np.sqrt(1.0 - a3_r / 3.0)"
   ]
  },
  {
   "cell_type": "code",
   "execution_count": null,
   "metadata": {},
   "outputs": [],
   "source": [
    "rgb = np.array([r, g, b]).T\n",
    "img = np.empty((size, size, 3), dtype=np.float64)\n",
    "for i in range(size):\n",
    "    I = opt_planck(T.reshape(-1,1), rate[i].reshape(-1,1) * λ) / opt_planck(base_temperature, λ)\n",
    "    img[i,:,:] = integrate.simps(I.reshape(size,-1,1) * rgb.reshape(1,-1,3), λ, axis=1).reshape(-1,3)\n",
    "\n",
    "img = img / np.max(img, axis=2).reshape(size,size,1)\n",
    "img[np.isnan(img)] = 0\n",
    "img[img < 0] = 0"
   ]
  },
  {
   "cell_type": "code",
   "execution_count": null,
   "metadata": {},
   "outputs": [],
   "source": [
    "plt.imshow(img)"
   ]
  },
  {
   "cell_type": "code",
   "execution_count": null,
   "metadata": {},
   "outputs": [],
   "source": [
    "Image.fromarray(np.round(img * 255).astype(np.uint8)).save('../Textures/T{}.png'.format(temperature))"
   ]
  }
 ],
 "metadata": {
  "kernelspec": {
   "display_name": "Python 3",
   "language": "python",
   "name": "python3"
  },
  "language_info": {
   "codemirror_mode": {
    "name": "ipython",
    "version": 3
   },
   "file_extension": ".py",
   "mimetype": "text/x-python",
   "name": "python",
   "nbconvert_exporter": "python",
   "pygments_lexer": "ipython3",
   "version": "3.6.7"
  }
 },
 "nbformat": 4,
 "nbformat_minor": 2
}
